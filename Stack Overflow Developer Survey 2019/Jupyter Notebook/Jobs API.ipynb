{
 "cells": [
  {
   "cell_type": "markdown",
   "id": "dadb145c",
   "metadata": {},
   "source": [
    "# Jobs API"
   ]
  },
  {
   "cell_type": "markdown",
   "id": "6e6e94e4",
   "metadata": {},
   "source": [
    "by **Koh Yan Chyi**\n",
    "\n",
    "June 18, 2022\n",
    "<br>\n",
    "<br>"
   ]
  },
  {
   "cell_type": "markdown",
   "id": "0f7d6b42",
   "metadata": {},
   "source": [
    "## Objectives\n",
    "\n",
    "Jobs API code needs to be executed so that the client application **Collecting Job Postings Data Using Jobs API** can access this code that executes on the server.\n"
   ]
  },
  {
   "cell_type": "markdown",
   "id": "f8ae4d77",
   "metadata": {},
   "source": [
    "## Import the Required Libraries"
   ]
  },
  {
   "cell_type": "markdown",
   "id": "70111d2e",
   "metadata": {},
   "source": [
    "Import all the required libraries for this project."
   ]
  },
  {
   "cell_type": "code",
   "execution_count": 1,
   "id": "3c6f0e36",
   "metadata": {},
   "outputs": [],
   "source": [
    "import urllib.request\n",
    "import json\n",
    "import flask\n",
    "from flask import request, jsonify\n",
    "import requests\n",
    "import re"
   ]
  },
  {
   "cell_type": "markdown",
   "id": "85eb32e6",
   "metadata": {},
   "source": [
    "## Dataset"
   ]
  },
  {
   "cell_type": "markdown",
   "id": "79379c78",
   "metadata": {},
   "source": [
    "The dataset used in this Jobs API comes from the following source: [https://www.kaggle.com/promptcloud/jobs-on-naukricom](https://www.kaggle.com/promptcloud/jobs-on-naukricom?utm_medium=Exinfluencer&utm_source=Exinfluencer&utm_content=000026UJ&utm_term=10006555&utm_id=NA-SkillsNetwork-Channel-SkillsNetworkCoursesIBMDA0321ENSkillsNetwork21426264-2022-01-01) under the **Public Domain license**.\n",
    "\n",
    "The original dataset is a CSV. A modified subset of that CSV dataset is converted to a JSON, provided by IBM.\n",
    "<br>\n",
    "<br>"
   ]
  },
  {
   "cell_type": "markdown",
   "id": "d81785da",
   "metadata": {},
   "source": [
    "Download JSON file."
   ]
  },
  {
   "cell_type": "code",
   "execution_count": 2,
   "id": "2e0cee20",
   "metadata": {},
   "outputs": [
    {
     "data": {
      "text/plain": [
       "('jobs.json', <http.client.HTTPMessage at 0x2871ca49250>)"
      ]
     },
     "execution_count": 2,
     "metadata": {},
     "output_type": "execute_result"
    }
   ],
   "source": [
    "urllib.request.urlretrieve(\"https://cf-courses-data.s3.us.cloud-object-storage.appdomain.cloud/IBM-DA0321EN-SkillsNetwork/labs/module%201/Accessing%20Data%20Using%20APIs/jobs.json\", \"jobs.json\")"
   ]
  },
  {
   "cell_type": "markdown",
   "id": "1e254dec",
   "metadata": {},
   "source": [
    "## Jobs API Implementation Using Flask"
   ]
  },
  {
   "cell_type": "code",
   "execution_count": 3,
   "id": "59e0fa88",
   "metadata": {},
   "outputs": [
    {
     "name": "stdout",
     "output_type": "stream",
     "text": [
      " * Serving Flask app \"__main__\" (lazy loading)\n",
      " * Environment: production\n",
      "\u001b[31m   WARNING: This is a development server. Do not use it in a production deployment.\u001b[0m\n",
      "\u001b[2m   Use a production WSGI server instead.\u001b[0m\n",
      " * Debug mode: off\n"
     ]
    },
    {
     "name": "stderr",
     "output_type": "stream",
     "text": [
      " * Running on http://127.0.0.1:5000/ (Press CTRL+C to quit)\n"
     ]
    }
   ],
   "source": [
    "def get_data(key,value,current):\n",
    "    \n",
    "    results = list()\n",
    "    for rec in current:\n",
    "        if rec[key].find(value) != -1:\n",
    "            results.append(rec)\n",
    "    return results\n",
    "\n",
    "app = flask.Flask(__name__)\n",
    "\n",
    "\n",
    "data = None\n",
    "with open('jobs.json',encoding='utf-8') as f:\n",
    "    data = json.load(f) # returns JSON object as a dictionary\n",
    "    \n",
    "    \n",
    "@app.route('/', methods=['GET'])\n",
    "def home():\n",
    "    return '''<h1>Welcome to flask JOB search API</h1>'''\n",
    "\n",
    "\n",
    "@app.route('/data/all', methods=['GET'])\n",
    "def api_all():\n",
    "    return jsonify(data)\n",
    "\n",
    "\n",
    "@app.route('/data', methods=['GET'])\n",
    "def api_id():\n",
    "\n",
    "    res = None\n",
    "    for req in request.args:\n",
    "        \n",
    "        if req == 'Job Title':\n",
    "            key = 'Job Title'\n",
    "        \n",
    "        elif req == 'Job Experience Required':\n",
    "            key='Job Experience Required'\n",
    "        \n",
    "        elif req == 'Key Skills':\n",
    "            key='Key Skills'\n",
    "            \n",
    "        elif req == 'Role Category':\n",
    "            key='Role Category'\n",
    "        \n",
    "        elif req == 'Location':\n",
    "            key='Location'\n",
    "        \n",
    "        elif req == 'Functional Area':\n",
    "            key='Functional Area'\n",
    "        \n",
    "        elif req == 'Industry':\n",
    "            key='Industry'\n",
    "        \n",
    "        elif req == 'Role':\n",
    "            key='Role'\n",
    "        \n",
    "        elif req==\"id\":\n",
    "             key=\"id\"\n",
    "        else:\n",
    "            pass\n",
    "    \n",
    "        value = request.args[key]\n",
    "        if (res==None):\n",
    "            res = get_data(key,value,data)\n",
    "        else:\n",
    "            res = get_data(key,value,res)\n",
    "\n",
    "    # Use the jsonify function from Flask to convert the list of\n",
    "    # Python dictionaries to the JSON format.\n",
    "    return jsonify(res)\n",
    "\n",
    "app.run()"
   ]
  }
 ],
 "metadata": {
  "kernelspec": {
   "display_name": "Python 3 (ipykernel)",
   "language": "python",
   "name": "python3"
  },
  "language_info": {
   "codemirror_mode": {
    "name": "ipython",
    "version": 3
   },
   "file_extension": ".py",
   "mimetype": "text/x-python",
   "name": "python",
   "nbconvert_exporter": "python",
   "pygments_lexer": "ipython3",
   "version": "3.9.7"
  }
 },
 "nbformat": 4,
 "nbformat_minor": 5
}
